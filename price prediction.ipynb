{
 "cells": [
  {
   "cell_type": "code",
   "execution_count": 1,
   "metadata": {},
   "outputs": [],
   "source": [
    "# Ignore warnings\n",
    "import warnings\n",
    "warnings.filterwarnings('ignore')\n",
    "\n",
    "# Handle table-like data and matrices\n",
    "import numpy as np\n",
    "import pandas as pd\n",
    "\n",
    "from sklearn.linear_model import LinearRegression\n",
    "from sklearn.metrics import mean_squared_error\n",
    "from math import sqrt\n",
    "\n",
    "import pprint\n",
    "import matplotlib.pyplot as plt\n",
    "import seaborn as sns\n",
    "\n",
    "from sklearn.model_selection import cross_val_score\n",
    "from sklearn import metrics\n",
    "from sklearn.metrics import accuracy_score\n",
    "from sklearn.model_selection import train_test_split\n",
    "\n",
    "\n",
    "# Visualisation\n",
    "import matplotlib as mpl\n",
    "import matplotlib.pyplot as plt\n",
    "import matplotlib.pylab as pylab\n",
    "import seaborn as sns\n"
   ]
  },
  {
   "cell_type": "code",
   "execution_count": 2,
   "metadata": {},
   "outputs": [],
   "source": [
    "df = pd.read_csv(\"total.csv\")"
   ]
  },
  {
   "cell_type": "code",
   "execution_count": 3,
   "metadata": {},
   "outputs": [
    {
     "data": {
      "text/html": [
       "<div>\n",
       "<style scoped>\n",
       "    .dataframe tbody tr th:only-of-type {\n",
       "        vertical-align: middle;\n",
       "    }\n",
       "\n",
       "    .dataframe tbody tr th {\n",
       "        vertical-align: top;\n",
       "    }\n",
       "\n",
       "    .dataframe thead th {\n",
       "        text-align: right;\n",
       "    }\n",
       "</style>\n",
       "<table border=\"1\" class=\"dataframe\">\n",
       "  <thead>\n",
       "    <tr style=\"text-align: right;\">\n",
       "      <th></th>\n",
       "      <th>timestamp</th>\n",
       "      <th>state</th>\n",
       "      <th>district</th>\n",
       "      <th>market</th>\n",
       "      <th>commodity</th>\n",
       "      <th>variety</th>\n",
       "      <th>arrival_date</th>\n",
       "      <th>min_price</th>\n",
       "      <th>max_price</th>\n",
       "      <th>modal_price</th>\n",
       "    </tr>\n",
       "  </thead>\n",
       "  <tbody>\n",
       "    <tr>\n",
       "      <th>0</th>\n",
       "      <td>1523025126</td>\n",
       "      <td>Assam</td>\n",
       "      <td>Barpeta</td>\n",
       "      <td>Bohorihat</td>\n",
       "      <td>Black Gram (Urd Beans)</td>\n",
       "      <td>Black Gram (Whole)</td>\n",
       "      <td>06/04/2018</td>\n",
       "      <td>2800.0</td>\n",
       "      <td>3000.0</td>\n",
       "      <td>2900.0</td>\n",
       "    </tr>\n",
       "    <tr>\n",
       "      <th>1</th>\n",
       "      <td>1523025126</td>\n",
       "      <td>Assam</td>\n",
       "      <td>Barpeta</td>\n",
       "      <td>Bohorihat</td>\n",
       "      <td>Corriander seed</td>\n",
       "      <td>Coriander Seed</td>\n",
       "      <td>06/04/2018</td>\n",
       "      <td>3500.0</td>\n",
       "      <td>4000.0</td>\n",
       "      <td>3825.0</td>\n",
       "    </tr>\n",
       "    <tr>\n",
       "      <th>2</th>\n",
       "      <td>1523025126</td>\n",
       "      <td>Assam</td>\n",
       "      <td>Barpeta</td>\n",
       "      <td>Bohorihat</td>\n",
       "      <td>Jute</td>\n",
       "      <td>TD-5</td>\n",
       "      <td>06/04/2018</td>\n",
       "      <td>3200.0</td>\n",
       "      <td>3875.0</td>\n",
       "      <td>3825.0</td>\n",
       "    </tr>\n",
       "    <tr>\n",
       "      <th>3</th>\n",
       "      <td>1523025126</td>\n",
       "      <td>Assam</td>\n",
       "      <td>Barpeta</td>\n",
       "      <td>Bohorihat</td>\n",
       "      <td>Lentil(Masur)</td>\n",
       "      <td>Masoor Gola</td>\n",
       "      <td>06/04/2018</td>\n",
       "      <td>3400.0</td>\n",
       "      <td>3600.0</td>\n",
       "      <td>3500.0</td>\n",
       "    </tr>\n",
       "    <tr>\n",
       "      <th>4</th>\n",
       "      <td>1523025126</td>\n",
       "      <td>Assam</td>\n",
       "      <td>Barpeta</td>\n",
       "      <td>Bohorihat</td>\n",
       "      <td>Mustard</td>\n",
       "      <td>Mustard</td>\n",
       "      <td>06/04/2018</td>\n",
       "      <td>3550.0</td>\n",
       "      <td>3650.0</td>\n",
       "      <td>3600.0</td>\n",
       "    </tr>\n",
       "    <tr>\n",
       "      <th>...</th>\n",
       "      <td>...</td>\n",
       "      <td>...</td>\n",
       "      <td>...</td>\n",
       "      <td>...</td>\n",
       "      <td>...</td>\n",
       "      <td>...</td>\n",
       "      <td>...</td>\n",
       "      <td>...</td>\n",
       "      <td>...</td>\n",
       "      <td>...</td>\n",
       "    </tr>\n",
       "    <tr>\n",
       "      <th>7413</th>\n",
       "      <td>1523025127</td>\n",
       "      <td>West Bengal</td>\n",
       "      <td>Uttar Dinajpur</td>\n",
       "      <td>Islampur</td>\n",
       "      <td>Jute</td>\n",
       "      <td>TD-5</td>\n",
       "      <td>06/04/2018</td>\n",
       "      <td>3700.0</td>\n",
       "      <td>3900.0</td>\n",
       "      <td>3800.0</td>\n",
       "    </tr>\n",
       "    <tr>\n",
       "      <th>7414</th>\n",
       "      <td>1523025127</td>\n",
       "      <td>West Bengal</td>\n",
       "      <td>Uttar Dinajpur</td>\n",
       "      <td>Islampur</td>\n",
       "      <td>Potato</td>\n",
       "      <td>Jyoti</td>\n",
       "      <td>06/04/2018</td>\n",
       "      <td>830.0</td>\n",
       "      <td>870.0</td>\n",
       "      <td>850.0</td>\n",
       "    </tr>\n",
       "    <tr>\n",
       "      <th>7415</th>\n",
       "      <td>1523025127</td>\n",
       "      <td>West Bengal</td>\n",
       "      <td>Uttar Dinajpur</td>\n",
       "      <td>Islampur</td>\n",
       "      <td>Rice</td>\n",
       "      <td>Other</td>\n",
       "      <td>06/04/2018</td>\n",
       "      <td>3250.0</td>\n",
       "      <td>3350.0</td>\n",
       "      <td>3300.0</td>\n",
       "    </tr>\n",
       "    <tr>\n",
       "      <th>7416</th>\n",
       "      <td>1523025127</td>\n",
       "      <td>West Bengal</td>\n",
       "      <td>Uttar Dinajpur</td>\n",
       "      <td>Raiganj</td>\n",
       "      <td>Jute</td>\n",
       "      <td>TD-5</td>\n",
       "      <td>06/04/2018</td>\n",
       "      <td>3600.0</td>\n",
       "      <td>3800.0</td>\n",
       "      <td>3700.0</td>\n",
       "    </tr>\n",
       "    <tr>\n",
       "      <th>7417</th>\n",
       "      <td>1523025127</td>\n",
       "      <td>West Bengal</td>\n",
       "      <td>Uttar Dinajpur</td>\n",
       "      <td>Raiganj</td>\n",
       "      <td>Rice</td>\n",
       "      <td>Other</td>\n",
       "      <td>06/04/2018</td>\n",
       "      <td>3150.0</td>\n",
       "      <td>3250.0</td>\n",
       "      <td>3200.0</td>\n",
       "    </tr>\n",
       "  </tbody>\n",
       "</table>\n",
       "<p>7418 rows × 10 columns</p>\n",
       "</div>"
      ],
      "text/plain": [
       "       timestamp        state        district     market  \\\n",
       "0     1523025126        Assam         Barpeta  Bohorihat   \n",
       "1     1523025126        Assam         Barpeta  Bohorihat   \n",
       "2     1523025126        Assam         Barpeta  Bohorihat   \n",
       "3     1523025126        Assam         Barpeta  Bohorihat   \n",
       "4     1523025126        Assam         Barpeta  Bohorihat   \n",
       "...          ...          ...             ...        ...   \n",
       "7413  1523025127  West Bengal  Uttar Dinajpur   Islampur   \n",
       "7414  1523025127  West Bengal  Uttar Dinajpur   Islampur   \n",
       "7415  1523025127  West Bengal  Uttar Dinajpur   Islampur   \n",
       "7416  1523025127  West Bengal  Uttar Dinajpur    Raiganj   \n",
       "7417  1523025127  West Bengal  Uttar Dinajpur    Raiganj   \n",
       "\n",
       "                   commodity             variety arrival_date  min_price  \\\n",
       "0     Black Gram (Urd Beans)  Black Gram (Whole)   06/04/2018     2800.0   \n",
       "1            Corriander seed      Coriander Seed   06/04/2018     3500.0   \n",
       "2                       Jute                TD-5   06/04/2018     3200.0   \n",
       "3              Lentil(Masur)         Masoor Gola   06/04/2018     3400.0   \n",
       "4                    Mustard             Mustard   06/04/2018     3550.0   \n",
       "...                      ...                 ...          ...        ...   \n",
       "7413                    Jute                TD-5   06/04/2018     3700.0   \n",
       "7414                  Potato               Jyoti   06/04/2018      830.0   \n",
       "7415                    Rice               Other   06/04/2018     3250.0   \n",
       "7416                    Jute                TD-5   06/04/2018     3600.0   \n",
       "7417                    Rice               Other   06/04/2018     3150.0   \n",
       "\n",
       "      max_price  modal_price  \n",
       "0        3000.0       2900.0  \n",
       "1        4000.0       3825.0  \n",
       "2        3875.0       3825.0  \n",
       "3        3600.0       3500.0  \n",
       "4        3650.0       3600.0  \n",
       "...         ...          ...  \n",
       "7413     3900.0       3800.0  \n",
       "7414      870.0        850.0  \n",
       "7415     3350.0       3300.0  \n",
       "7416     3800.0       3700.0  \n",
       "7417     3250.0       3200.0  \n",
       "\n",
       "[7418 rows x 10 columns]"
      ]
     },
     "execution_count": 3,
     "metadata": {},
     "output_type": "execute_result"
    }
   ],
   "source": [
    "df"
   ]
  },
  {
   "cell_type": "code",
   "execution_count": 4,
   "metadata": {},
   "outputs": [
    {
     "data": {
      "text/plain": [
       "(7418, 10)"
      ]
     },
     "execution_count": 4,
     "metadata": {},
     "output_type": "execute_result"
    }
   ],
   "source": [
    "df.shape"
   ]
  },
  {
   "cell_type": "code",
   "execution_count": 29,
   "metadata": {},
   "outputs": [
    {
     "data": {
      "text/plain": [
       "timestamp           1523025126\n",
       "state                   Kerala\n",
       "district             Ernakulam\n",
       "market          Thrippunithura\n",
       "commodity                   41\n",
       "variety                     78\n",
       "arrival_date        06/04/2018\n",
       "min_price               3000.0\n",
       "max_price               3800.0\n",
       "modal_price             3400.0\n",
       "Name: 1692, dtype: object"
      ]
     },
     "execution_count": 29,
     "metadata": {},
     "output_type": "execute_result"
    }
   ],
   "source": [
    "df.loc[1692]"
   ]
  },
  {
   "cell_type": "code",
   "execution_count": 5,
   "metadata": {},
   "outputs": [
    {
     "data": {
      "text/html": [
       "<div>\n",
       "<style scoped>\n",
       "    .dataframe tbody tr th:only-of-type {\n",
       "        vertical-align: middle;\n",
       "    }\n",
       "\n",
       "    .dataframe tbody tr th {\n",
       "        vertical-align: top;\n",
       "    }\n",
       "\n",
       "    .dataframe thead th {\n",
       "        text-align: right;\n",
       "    }\n",
       "</style>\n",
       "<table border=\"1\" class=\"dataframe\">\n",
       "  <thead>\n",
       "    <tr style=\"text-align: right;\">\n",
       "      <th></th>\n",
       "      <th>timestamp</th>\n",
       "      <th>min_price</th>\n",
       "      <th>max_price</th>\n",
       "      <th>modal_price</th>\n",
       "    </tr>\n",
       "  </thead>\n",
       "  <tbody>\n",
       "    <tr>\n",
       "      <th>count</th>\n",
       "      <td>7.418000e+03</td>\n",
       "      <td>7418.000000</td>\n",
       "      <td>7418.000000</td>\n",
       "      <td>7418.000000</td>\n",
       "    </tr>\n",
       "    <tr>\n",
       "      <th>mean</th>\n",
       "      <td>1.523025e+09</td>\n",
       "      <td>2551.547816</td>\n",
       "      <td>2999.163084</td>\n",
       "      <td>2804.140783</td>\n",
       "    </tr>\n",
       "    <tr>\n",
       "      <th>std</th>\n",
       "      <td>4.987461e-01</td>\n",
       "      <td>3563.042575</td>\n",
       "      <td>4199.273121</td>\n",
       "      <td>3917.043677</td>\n",
       "    </tr>\n",
       "    <tr>\n",
       "      <th>min</th>\n",
       "      <td>1.523025e+09</td>\n",
       "      <td>0.000000</td>\n",
       "      <td>0.000000</td>\n",
       "      <td>0.410000</td>\n",
       "    </tr>\n",
       "    <tr>\n",
       "      <th>25%</th>\n",
       "      <td>1.523025e+09</td>\n",
       "      <td>900.000000</td>\n",
       "      <td>1100.000000</td>\n",
       "      <td>1000.000000</td>\n",
       "    </tr>\n",
       "    <tr>\n",
       "      <th>50%</th>\n",
       "      <td>1.523025e+09</td>\n",
       "      <td>1650.000000</td>\n",
       "      <td>2000.000000</td>\n",
       "      <td>1828.500000</td>\n",
       "    </tr>\n",
       "    <tr>\n",
       "      <th>75%</th>\n",
       "      <td>1.523025e+09</td>\n",
       "      <td>3200.000000</td>\n",
       "      <td>3650.000000</td>\n",
       "      <td>3500.000000</td>\n",
       "    </tr>\n",
       "    <tr>\n",
       "      <th>max</th>\n",
       "      <td>1.523025e+09</td>\n",
       "      <td>95000.000000</td>\n",
       "      <td>110000.000000</td>\n",
       "      <td>100000.000000</td>\n",
       "    </tr>\n",
       "  </tbody>\n",
       "</table>\n",
       "</div>"
      ],
      "text/plain": [
       "          timestamp     min_price      max_price    modal_price\n",
       "count  7.418000e+03   7418.000000    7418.000000    7418.000000\n",
       "mean   1.523025e+09   2551.547816    2999.163084    2804.140783\n",
       "std    4.987461e-01   3563.042575    4199.273121    3917.043677\n",
       "min    1.523025e+09      0.000000       0.000000       0.410000\n",
       "25%    1.523025e+09    900.000000    1100.000000    1000.000000\n",
       "50%    1.523025e+09   1650.000000    2000.000000    1828.500000\n",
       "75%    1.523025e+09   3200.000000    3650.000000    3500.000000\n",
       "max    1.523025e+09  95000.000000  110000.000000  100000.000000"
      ]
     },
     "execution_count": 5,
     "metadata": {},
     "output_type": "execute_result"
    }
   ],
   "source": [
    "df.describe()"
   ]
  },
  {
   "cell_type": "code",
   "execution_count": 6,
   "metadata": {},
   "outputs": [
    {
     "data": {
      "text/plain": [
       "Index(['timestamp', 'state', 'district', 'market', 'commodity', 'variety',\n",
       "       'arrival_date', 'min_price', 'max_price', 'modal_price'],\n",
       "      dtype='object')"
      ]
     },
     "execution_count": 6,
     "metadata": {},
     "output_type": "execute_result"
    }
   ],
   "source": [
    "df.columns"
   ]
  },
  {
   "cell_type": "code",
   "execution_count": 7,
   "metadata": {},
   "outputs": [
    {
     "data": {
      "text/plain": [
       "<matplotlib.axes._subplots.AxesSubplot at 0x1cce5995860>"
      ]
     },
     "execution_count": 7,
     "metadata": {},
     "output_type": "execute_result"
    },
    {
     "data": {
      "image/png": "[encoded data removed]",
      "text/plain": [
       "<Figure size 1080x720 with 2 Axes>"
      ]
     },
     "metadata": {
      "needs_background": "light"
     },
     "output_type": "display_data"
    }
   ],
   "source": [
    "correlation_map = df[df.columns].corr()\n",
    "obj = np.array(correlation_map)\n",
    "obj[np.tril_indices_from(obj)] = False\n",
    "fig,ax= plt.subplots()\n",
    "fig.set_size_inches(15,10)\n",
    "sns.heatmap(correlation_map, mask=obj,vmax=.7, square=True,annot=True)"
   ]
  },
  {
   "cell_type": "code",
   "execution_count": 8,
   "metadata": {},
   "outputs": [
    {
     "data": {
      "text/plain": [
       "array(['Assam', 'Chattisgarh', 'Gujarat', 'Haryana', 'Himachal Pradesh',\n",
       "       'Jharkhand', 'Karnataka', 'Kerala', 'Madhya Pradesh',\n",
       "       'Maharashtra', 'Meghalaya', 'NCT of Delhi', 'Orissa',\n",
       "       'Pondicherry', 'Punjab', 'Rajasthan', 'Tamil Nadu', 'Telangana',\n",
       "       'Tripura', 'Uttar Pradesh', 'Uttrakhand', 'West Bengal'],\n",
       "      dtype=object)"
      ]
     },
     "execution_count": 8,
     "metadata": {},
     "output_type": "execute_result"
    }
   ],
   "source": [
    "df.state.unique()"
   ]
  },
  {
   "cell_type": "code",
   "execution_count": 9,
   "metadata": {},
   "outputs": [
    {
     "data": {
      "text/plain": [
       "22"
      ]
     },
     "execution_count": 9,
     "metadata": {},
     "output_type": "execute_result"
    }
   ],
   "source": [
    "df.state.nunique()"
   ]
  },
  {
   "cell_type": "code",
   "execution_count": 10,
   "metadata": {},
   "outputs": [
    {
     "data": {
      "text/plain": [
       "array(['Barpeta', 'Dhemaji', 'Kamrup', 'Nagaon', 'Nalbari', 'Sonitpur',\n",
       "       'Bastar', 'Bilaspur', 'Durg', 'Janjgir', 'Mahasamund',\n",
       "       'North Bastar', 'Rajnandgaon', 'Surguja', 'Ahmedabad', 'Amreli',\n",
       "       'Anand', 'Banaskanth', 'Bharuch', 'Bhavnagar', 'Dahod',\n",
       "       'Gandhinagar', 'Jamnagar', 'Junagarh', 'Kheda', 'Mehsana', 'Morbi',\n",
       "       'Panchmahals', 'Patan', 'Porbandar', 'Rajkot', 'Sabarkantha',\n",
       "       'Surat', 'Surendranagar', 'Vadodara(Baroda)', 'Valsad', 'Ambala',\n",
       "       'Bhiwani', 'Faridabad', 'Fatehabad', 'Jind', 'Kaithal', 'Karnal',\n",
       "       'Kurukshetra', 'Mahendragarh-Narnaul', 'Panchkula', 'Rohtak',\n",
       "       'Sirsa', 'Sonipat', 'Yamuna Nagar', 'Chamba', 'Hamirpur', 'Kangra',\n",
       "       'Kullu', 'Mandi', 'Shimla', 'Sirmore', 'Solan', 'Una', 'Bokaro',\n",
       "       'Dhanbad', 'East Singhbhum', 'Garhwa', 'Giridih', 'Godda', 'Gumla',\n",
       "       'Koderma', 'Lohardaga', 'Pakur', 'Ranchi', 'Simdega', 'Bagalkot',\n",
       "       'Bangalore', 'Belgaum', 'Bellary', 'Bidar', 'Bijapur',\n",
       "       'Chamrajnagar', 'Chikmagalur', 'Chitradurga', 'Davangere',\n",
       "       'Dharwad', 'Gadag', 'Gulbarga', 'Hassan', 'Haveri',\n",
       "       'Karwar(Uttar Kannad)', 'Kolar', 'Koppal', 'Madikeri(Kodagu)',\n",
       "       'Mandya', 'Mangalore(Dakshin Kannad)', 'Mysore', 'Raichur',\n",
       "       'Shimoga', 'Tumkur', 'Udupi', 'Alappuzha', 'Ernakulam', 'Idukki',\n",
       "       'Kannur', 'Kasargod', 'Kollam', 'Kottayam', 'Kozhikode(Calicut)',\n",
       "       'Malappuram', 'Palakad', 'Pathanamthitta', 'Thiruvananthapuram',\n",
       "       'Burhanpur', 'Chhindwara', 'Dewas', 'Dhar', 'Dindori', 'Harda',\n",
       "       'Hoshangabad', 'Indore', 'Khargone', 'Mandsaur', 'Neemuch',\n",
       "       'Panna', 'Rajgarh', 'Ratlam', 'Sagar', 'Satna', 'Sehore',\n",
       "       'Shajapur', 'Sheopur', 'Ujjain', 'Vidisha', 'Ahmednagar', 'Akola',\n",
       "       'Amarawati', 'Aurangabad', 'Beed', 'Bhandara', 'Buldhana',\n",
       "       'Chandrapur', 'Dhule', 'Gadchiroli', 'Hingoli', 'Jalana',\n",
       "       'Jalgaon', 'Kolhapur', 'Latur', 'Mumbai', 'Nagpur', 'Nanded',\n",
       "       'Nashik', 'Osmanabad', 'Parbhani', 'Pune', 'Raigad', 'Ratnagiri',\n",
       "       'Sangli', 'Satara', 'Sholapur', 'Thane', 'Wardha', 'Yavatmal',\n",
       "       'East Khasi Hills', 'West Garo Hills', 'West Jaintia Hills',\n",
       "       'Delhi', 'Bargarh', 'Bhadrak', 'Bolangir', 'Boudh', 'Cuttack',\n",
       "       'Deogarh', 'Dhenkanal', 'Ganjam', 'Jajpur', 'Kendrapara',\n",
       "       'Malkangiri', 'Mayurbhanja', 'Nayagarh', 'Nowarangpur', 'Nuapada',\n",
       "       'Sambalpur', 'Sonepur', 'Sundergarh', 'Karaikal', 'Amritsar',\n",
       "       'Barnala', 'Bhatinda', 'Faridkot', 'Fatehgarh', 'Fazilka',\n",
       "       'Ferozpur', 'Gurdaspur', 'Hoshiarpur', 'Jalandhar', 'kapurthala',\n",
       "       'Ludhiana', 'Moga', 'Mohali', 'Muktsar', 'Nawanshahr', 'Pathankot',\n",
       "       'Patiala', 'Ropar (Rupnagar)', 'Sangrur', 'Tarntaran', 'Ajmer',\n",
       "       'Banswara', 'Baran', 'Barmer', 'Bharatpur', 'Bikaner',\n",
       "       'Chittorgarh', 'Churu', 'Dausa', 'Ganganagar', 'Hanumangarh',\n",
       "       'Jaipur', 'Jalore', 'Jhalawar', 'Jodhpur', 'Kota', 'Pali', 'Sikar',\n",
       "       'Sirohi', 'Swai Madhopur', 'Tonk', 'Udaipur', 'Ariyalur',\n",
       "       'Coimbatore', 'Cuddalore', 'Dharmapuri', 'Dindigul', 'Erode',\n",
       "       'Kancheepuram', 'Krishnagiri', 'Madurai', 'Namakkal',\n",
       "       'Ramanathapuram', 'Salem', 'Sivaganga', 'Thanjavur', 'Theni',\n",
       "       'Thirunelveli', 'Thiruvannamalai', 'Thiruvarur', 'Vellore',\n",
       "       'Villupuram', 'Virudhunagar', 'Adilabad', 'Hyderabad',\n",
       "       'Karimnagar', 'Khammam', 'Mahbubnagar', 'Medak', 'Nalgonda',\n",
       "       'Nizamabad', 'Ranga Reddy Dist.', 'Warangal', 'Khowai',\n",
       "       'West District', 'Agra', 'Aligarh', 'Allahabad', 'Ambedkarnagar',\n",
       "       'Auraiya', 'Azamgarh', 'Badaun', 'Baghpat', 'Bahraich', 'Ballia',\n",
       "       'Balrampur', 'Banda', 'Barabanki', 'Bareilly', 'Basti', 'Bijnor',\n",
       "       'Bulandshahar', 'Chitrakut', 'Deoria', 'Etah', 'Etawah',\n",
       "       'Faizabad', 'Farukhabad', 'Fatehpur', 'Firozabad',\n",
       "       'Gautam Budh Nagar', 'Ghaziabad', 'Ghazipur', 'Gonda', 'Gorakhpur',\n",
       "       'Hardoi', 'Hathras', 'Jalaun (Orai)', 'Jaunpur', 'Jhansi',\n",
       "       'Jyotiba Phule Nagar', 'Kannuj', 'Kanpur', 'Khiri (Lakhimpur)',\n",
       "       'Lakhimpur', 'Lalitpur', 'Lucknow', 'Maharajganj', 'Mahoba',\n",
       "       'Mainpuri', 'Mathura', 'Mau(Maunathbhanjan)', 'Meerut', 'Mirzapur',\n",
       "       'Muradabad', 'Muzaffarnagar', 'Padrauna(Kusinagar)', 'Pillibhit',\n",
       "       'Pratapgarh', 'Raebarelli', 'Rampur', 'Saharanpur',\n",
       "       'Sant Kabir Nagar', 'Shahjahanpur', 'Shravasti', 'Siddharth Nagar',\n",
       "       'Sitapur', 'Sonbhadra', 'Sultanpur', 'Unnao', 'Varanasi',\n",
       "       'Champawat', 'Dehradoon', 'Garhwal (Pauri)', 'Haridwar', 'Nanital',\n",
       "       'UdhamSinghNagar', 'Bankura', 'Birbhum', 'Burdwan', 'Coochbehar',\n",
       "       'Dakshin Dinajpur', 'Darjeeling', 'Hooghly', 'Howrah',\n",
       "       'Jalpaiguri', 'Kolkata', 'Malda', 'Medinipur(E)', 'Medinipur(W)',\n",
       "       'Murshidabad', 'Nadia', 'Puruliya', 'Uttar Dinajpur'], dtype=object)"
      ]
     },
     "execution_count": 10,
     "metadata": {},
     "output_type": "execute_result"
    }
   ],
   "source": [
    "df.district.unique()"
   ]
  },
  {
   "cell_type": "code",
   "execution_count": 11,
   "metadata": {},
   "outputs": [
    {
     "data": {
      "text/plain": [
       "348"
      ]
     },
     "execution_count": 11,
     "metadata": {},
     "output_type": "execute_result"
    }
   ],
   "source": [
    "df.district.nunique()"
   ]
  },
  {
   "cell_type": "code",
   "execution_count": 12,
   "metadata": {},
   "outputs": [
    {
     "data": {
      "text/plain": [
       "array(['Black Gram (Urd Beans)', 'Corriander seed', 'Jute',\n",
       "       'Lentil(Masur)', 'Mustard', 'Potato', 'Wheat Atta', 'Maida Atta',\n",
       "       'Green Chilli', 'Green Gram Dal (Moong Dal)', 'Paddy(Dhan)',\n",
       "       'Bengal Gram(Gram)', 'Lak(Teora)', 'Onion', 'Tomato', 'Tinda',\n",
       "       'Mahua', 'Bhindi(Ladies Finger)', 'Lemon', 'Maize', 'Bottle gourd',\n",
       "       'Brinjal', 'Carrot', 'Methi(Leaves)', 'Cotton',\n",
       "       'Bajra(Pearl Millet/Cumbu)', 'Castor Seed', 'Chili Red',\n",
       "       'Cummin Seed(Jeera)', 'Jowar(Sorghum)', 'Methi Seeds',\n",
       "       'Sesamum(Sesame,Gingelly,Til)', 'Wheat', 'Suva (Dill Seed)',\n",
       "       'Rajgir', 'Soanf', 'Guar Seed(Cluster Beans Seed)',\n",
       "       'Coriander(Leaves)', 'Ginger(Green)', 'Groundnut',\n",
       "       'Arhar (Tur/Red Gram)', 'Beans', 'Soyabean', 'Barley (Jau)',\n",
       "       'Green Gram (Moong)', 'Groundnut (Split)', 'Isabgul (Psyllium)',\n",
       "       'Kulthi(Horse Gram)', 'Ground Nut Seed', 'Garlic', 'Cluster beans',\n",
       "       'Cauliflower', 'Cucumbar(Kheera)', 'Pumpkin', 'Apple',\n",
       "       'Bitter gourd', 'Cabbage', 'Capsicum', 'Ginger(Dry)',\n",
       "       'Long Melon(Kakri)', 'Mango', 'Peas Wet', 'Raddish', 'Spinach',\n",
       "       'Banana', 'Ber(Zizyphus/Borehannu)', 'Grapes',\n",
       "       'Mousambi(Sweet Lime)', 'Turnip', 'Orange', 'Pine Apple',\n",
       "       'Pomegranate', 'Water Melon', 'Chikoos(Sapota)', 'Green Peas',\n",
       "       'Karbuja(Musk Melon)', 'Linseed', 'Sponge gourd', 'Kinnow',\n",
       "       'French Beans (Frasbean)', 'Guava', 'Papaya',\n",
       "       'Squash(Chappal Kadoo)', 'Gur(Jaggery)',\n",
       "       'Bengal Gram Dal (Chana Dal)', 'Masur Dal', 'Sugar',\n",
       "       'Pointed gourd (Parval)', 'Arhar Dal(Tur Dal)', 'Mustard Oil',\n",
       "       'Rice', 'Jack Fruit', 'Dalda', 'Peas(Dry)', 'Tamarind Fruit',\n",
       "       'Cowpea (Lobia/Karamani)', 'Sunflower', 'Alasande Gram',\n",
       "       'Avare Dal', 'Black Gram Dal (Urd Dal)', 'Black pepper',\n",
       "       'Cashewnuts', 'Chennangi Dal', 'Coconut', 'Dry Chillies',\n",
       "       'Moath Dal', 'Ragi (Finger Millet)', 'Ridgeguard(Tori)',\n",
       "       'Beetroot', 'Chilly Capsicum', 'Drumstick', 'Knool Khol',\n",
       "       'Seemebadnekai', 'Snakeguard', 'Foxtail Millet(Navane)',\n",
       "       'Safflower', 'Banana - Green', 'Tender Coconut', 'Lint', 'Sajje',\n",
       "       'Copra', 'Arecanut(Betelnut/Supari)', 'Chapparad Avare',\n",
       "       'Honge seed', 'T.V. Cumbu', 'Tamarind Seed',\n",
       "       'Soapnut(Antawala/Retha)', 'Elephant Yam (Suran)', 'Amphophalus',\n",
       "       'Ashgourd', 'Coconut Oil', 'Cowpea(Veg)', 'Gingelly Oil',\n",
       "       'Amaranthus', 'Colacasia', 'Tapioca', 'Little gourd (Kundru)',\n",
       "       'Mango (Raw-Ripe)', 'Cardamoms', 'Cloves', 'Coffee', 'Nutmeg',\n",
       "       'Rubber', 'Turmeric', 'Indian Beans (Seam)', 'Pepper ungarbled',\n",
       "       'Coconut Seed', 'Papaya (Raw)', 'Green Avare (W)',\n",
       "       'Kabuli Chana(Chickpeas-White)', 'Lime', 'Sweet Potato',\n",
       "       'Duster Beans', 'Myrobolan(Harad)', 'Plum', 'Mataki', 'Guar',\n",
       "       'Sweet Pumpkin', 'Mint(Pudina)', 'Onion Green', 'Leafy Vegetable',\n",
       "       'Betal Leaves', 'Field Pea', 'Chrysanthemum', 'Cornation',\n",
       "       'Gladiolus Cut Flower', 'Jaffri', 'Jarbara', 'Lilly', 'Marget',\n",
       "       'Marigold(Calcutta)', 'Marigold(loose)', 'Orchid',\n",
       "       'Patti Calcutta', 'Raibel', 'Rose(Local)', 'Rose(Loose)',\n",
       "       'Tube Rose(Double)', 'Tube Rose(Loose)', 'Tube Rose(Single)',\n",
       "       'Fish', 'Egg', 'Broken Rice', 'Round gourd', 'Peas cod',\n",
       "       'Gram Raw(Chholia)', 'Mashrooms', 'Yam', 'Wood', 'Pigs',\n",
       "       'White Peas', 'Firewood'], dtype=object)"
      ]
     },
     "execution_count": 12,
     "metadata": {},
     "output_type": "execute_result"
    }
   ],
   "source": [
    "df.commodity.unique()"
   ]
  },
  {
   "cell_type": "code",
   "execution_count": 13,
   "metadata": {},
   "outputs": [
    {
     "name": "stdout",
     "output_type": "stream",
     "text": [
      "<class 'pandas.core.frame.DataFrame'>\n",
      "RangeIndex: 7418 entries, 0 to 7417\n",
      "Data columns (total 10 columns):\n",
      " #   Column        Non-Null Count  Dtype  \n",
      "---  ------        --------------  -----  \n",
      " 0   timestamp     7418 non-null   int64  \n",
      " 1   state         7418 non-null   object \n",
      " 2   district      7418 non-null   object \n",
      " 3   market        7418 non-null   object \n",
      " 4   commodity     7418 non-null   object \n",
      " 5   variety       7418 non-null   object \n",
      " 6   arrival_date  7418 non-null   object \n",
      " 7   min_price     7418 non-null   float64\n",
      " 8   max_price     7418 non-null   float64\n",
      " 9   modal_price   7418 non-null   float64\n",
      "dtypes: float64(3), int64(1), object(6)\n",
      "memory usage: 579.7+ KB\n"
     ]
    }
   ],
   "source": [
    "df.info()"
   ]
  },
  {
   "cell_type": "code",
   "execution_count": 14,
   "metadata": {},
   "outputs": [],
   "source": [
    "def get_val(state , district , commodity):\n",
    "    temp = df.loc[(df.state == state) & (df.district == district) & (df.commodity == commodity), : ]\n",
    "    fig, axes = plt.subplots(6,1)\n",
    "    fig.set_size_inches(20, 30)\n",
    "    sns.barplot(data=temp ,y=\"min_price\",x=\"market\" ,orient=\"v\" , ax = axes[0] )\n",
    "    sns.pointplot(data=temp ,y=\"min_price\",x=\"market\" ,orient=\"v\" , ax = axes[1] )\n",
    "    #sns.stripplot(x=\"market\", y=\"min_price\", data=temp , jitter=True ,  ax = axes[1])\n",
    "    #sns.distplot(temp.modal_price , ax = axes[3])\n",
    "    sns.barplot(data=temp ,y=\"modal_price\",x=\"market\" ,orient=\"v\" , ax = axes[2] )\n",
    "    sns.pointplot(data=temp ,y=\"modal_price\",x=\"market\" ,orient=\"v\" , ax = axes[3] )\n",
    "    sns.barplot(data=temp ,y=\"max_price\",x=\"market\" ,orient=\"v\" , ax = axes[4] )\n",
    "    sns.pointplot(data=temp ,y=\"max_price\",x=\"market\" ,orient=\"v\" , ax = axes[5] )"
   ]
  },
  {
   "cell_type": "code",
   "execution_count": 15,
   "metadata": {},
   "outputs": [
    {
     "data": {
      "image/png": "[encoded data removed]",
      "text/plain": [
       "<Figure size 1440x2160 with 6 Axes>"
      ]
     },
     "metadata": {
      "needs_background": "light"
     },
     "output_type": "display_data"
    }
   ],
   "source": [
    "get_val(\"Uttar Pradesh\" , \"Agra\" , \"Brinjal\")"
   ]
  },
  {
   "cell_type": "code",
   "execution_count": 16,
   "metadata": {},
   "outputs": [],
   "source": [
    "from sklearn.preprocessing import LabelEncoder\n",
    "le = LabelEncoder()\n",
    "df['commodity'] = le.fit_transform(df['commodity'])\n",
    "df['variety'] = le.fit_transform(df['variety'])"
   ]
  },
  {
   "cell_type": "code",
   "execution_count": 17,
   "metadata": {},
   "outputs": [
    {
     "data": {
      "text/html": [
       "<div>\n",
       "<style scoped>\n",
       "    .dataframe tbody tr th:only-of-type {\n",
       "        vertical-align: middle;\n",
       "    }\n",
       "\n",
       "    .dataframe tbody tr th {\n",
       "        vertical-align: top;\n",
       "    }\n",
       "\n",
       "    .dataframe thead th {\n",
       "        text-align: right;\n",
       "    }\n",
       "</style>\n",
       "<table border=\"1\" class=\"dataframe\">\n",
       "  <thead>\n",
       "    <tr style=\"text-align: right;\">\n",
       "      <th></th>\n",
       "      <th>timestamp</th>\n",
       "      <th>state</th>\n",
       "      <th>district</th>\n",
       "      <th>market</th>\n",
       "      <th>commodity</th>\n",
       "      <th>variety</th>\n",
       "      <th>arrival_date</th>\n",
       "      <th>min_price</th>\n",
       "      <th>max_price</th>\n",
       "      <th>modal_price</th>\n",
       "    </tr>\n",
       "  </thead>\n",
       "  <tbody>\n",
       "    <tr>\n",
       "      <th>0</th>\n",
       "      <td>1523025126</td>\n",
       "      <td>Assam</td>\n",
       "      <td>Barpeta</td>\n",
       "      <td>Bohorihat</td>\n",
       "      <td>21</td>\n",
       "      <td>52</td>\n",
       "      <td>06/04/2018</td>\n",
       "      <td>2800.0</td>\n",
       "      <td>3000.0</td>\n",
       "      <td>2900.0</td>\n",
       "    </tr>\n",
       "    <tr>\n",
       "      <th>1</th>\n",
       "      <td>1523025126</td>\n",
       "      <td>Assam</td>\n",
       "      <td>Barpeta</td>\n",
       "      <td>Bohorihat</td>\n",
       "      <td>50</td>\n",
       "      <td>86</td>\n",
       "      <td>06/04/2018</td>\n",
       "      <td>3500.0</td>\n",
       "      <td>4000.0</td>\n",
       "      <td>3825.0</td>\n",
       "    </tr>\n",
       "    <tr>\n",
       "      <th>2</th>\n",
       "      <td>1523025126</td>\n",
       "      <td>Assam</td>\n",
       "      <td>Barpeta</td>\n",
       "      <td>Bohorihat</td>\n",
       "      <td>93</td>\n",
       "      <td>312</td>\n",
       "      <td>06/04/2018</td>\n",
       "      <td>3200.0</td>\n",
       "      <td>3875.0</td>\n",
       "      <td>3825.0</td>\n",
       "    </tr>\n",
       "    <tr>\n",
       "      <th>3</th>\n",
       "      <td>1523025126</td>\n",
       "      <td>Assam</td>\n",
       "      <td>Barpeta</td>\n",
       "      <td>Bohorihat</td>\n",
       "      <td>102</td>\n",
       "      <td>207</td>\n",
       "      <td>06/04/2018</td>\n",
       "      <td>3400.0</td>\n",
       "      <td>3600.0</td>\n",
       "      <td>3500.0</td>\n",
       "    </tr>\n",
       "    <tr>\n",
       "      <th>4</th>\n",
       "      <td>1523025126</td>\n",
       "      <td>Assam</td>\n",
       "      <td>Barpeta</td>\n",
       "      <td>Bohorihat</td>\n",
       "      <td>125</td>\n",
       "      <td>221</td>\n",
       "      <td>06/04/2018</td>\n",
       "      <td>3550.0</td>\n",
       "      <td>3650.0</td>\n",
       "      <td>3600.0</td>\n",
       "    </tr>\n",
       "  </tbody>\n",
       "</table>\n",
       "</div>"
      ],
      "text/plain": [
       "    timestamp  state district     market  commodity  variety arrival_date  \\\n",
       "0  1523025126  Assam  Barpeta  Bohorihat         21       52   06/04/2018   \n",
       "1  1523025126  Assam  Barpeta  Bohorihat         50       86   06/04/2018   \n",
       "2  1523025126  Assam  Barpeta  Bohorihat         93      312   06/04/2018   \n",
       "3  1523025126  Assam  Barpeta  Bohorihat        102      207   06/04/2018   \n",
       "4  1523025126  Assam  Barpeta  Bohorihat        125      221   06/04/2018   \n",
       "\n",
       "   min_price  max_price  modal_price  \n",
       "0     2800.0     3000.0       2900.0  \n",
       "1     3500.0     4000.0       3825.0  \n",
       "2     3200.0     3875.0       3825.0  \n",
       "3     3400.0     3600.0       3500.0  \n",
       "4     3550.0     3650.0       3600.0  "
      ]
     },
     "execution_count": 17,
     "metadata": {},
     "output_type": "execute_result"
    }
   ],
   "source": [
    "df.head()"
   ]
  },
  {
   "cell_type": "code",
   "execution_count": 18,
   "metadata": {},
   "outputs": [],
   "source": [
    "x=df.iloc[:,[4,5,7,8]]\n",
    "y=df['modal_price']"
   ]
  },
  {
   "cell_type": "code",
   "execution_count": 27,
   "metadata": {},
   "outputs": [
    {
     "data": {
      "text/plain": [
       "commodity      41.0\n",
       "variety        78.0\n",
       "min_price    3000.0\n",
       "max_price    3800.0\n",
       "Name: 1692, dtype: float64"
      ]
     },
     "execution_count": 27,
     "metadata": {},
     "output_type": "execute_result"
    }
   ],
   "source": [
    "x.loc[1692]"
   ]
  },
  {
   "cell_type": "code",
   "execution_count": 28,
   "metadata": {},
   "outputs": [
    {
     "data": {
      "text/plain": [
       "3400.0"
      ]
     },
     "execution_count": 28,
     "metadata": {},
     "output_type": "execute_result"
    }
   ],
   "source": [
    "y.loc[1692]"
   ]
  },
  {
   "cell_type": "code",
   "execution_count": 26,
   "metadata": {},
   "outputs": [
    {
     "data": {
      "text/plain": [
       "commodity      41.0\n",
       "variety        78.0\n",
       "min_price    3000.0\n",
       "max_price    3800.0\n",
       "Name: 1692, dtype: float64"
      ]
     },
     "execution_count": 26,
     "metadata": {},
     "output_type": "execute_result"
    }
   ],
   "source": [
    "X_train, X_test, y_train, y_test = train_test_split(x, y, test_size=0.2, random_state=1)\n",
    "X_test.loc[1692]"
   ]
  },
  {
   "cell_type": "code",
   "execution_count": 21,
   "metadata": {},
   "outputs": [
    {
     "data": {
      "text/plain": [
       "LinearRegression()"
      ]
     },
     "execution_count": 21,
     "metadata": {},
     "output_type": "execute_result"
    }
   ],
   "source": [
    "alg = LinearRegression()\n",
    "alg.fit(X_train, y_train)"
   ]
  },
  {
   "cell_type": "code",
   "execution_count": 22,
   "metadata": {},
   "outputs": [
    {
     "name": "stdout",
     "output_type": "stream",
     "text": [
      "0.992368576835764\n"
     ]
    },
    {
     "data": {
      "text/plain": [
       "array([3489.39790971, 6716.12259556, 2191.43022183, ..., 2193.03639206,\n",
       "       3598.82193142, 4266.78503184])"
      ]
     },
     "execution_count": 22,
     "metadata": {},
     "output_type": "execute_result"
    }
   ],
   "source": [
    "from sklearn.metrics import r2_score\n",
    "y_predict = alg.predict(X_test)\n",
    "\n",
    "print(r2_score(y_predict,y_test))\n",
    "y_predict\n",
    "\n",
    "\n"
   ]
  },
  {
   "cell_type": "code",
   "execution_count": 32,
   "metadata": {},
   "outputs": [
    {
     "name": "stdout",
     "output_type": "stream",
     "text": [
      "334.5344891116706\n"
     ]
    }
   ],
   "source": [
    "rmse = sqrt(mean_squared_error(y_predict, y_test))\n",
    "print(rmse)"
   ]
  },
  {
   "cell_type": "code",
   "execution_count": 33,
   "metadata": {},
   "outputs": [
    {
     "data": {
      "text/plain": [
       "(7418, 4)"
      ]
     },
     "execution_count": 33,
     "metadata": {},
     "output_type": "execute_result"
    }
   ],
   "source": [
    "x.shape"
   ]
  },
  {
   "cell_type": "code",
   "execution_count": 34,
   "metadata": {},
   "outputs": [],
   "source": [
    "clf = LinearRegression()\n",
    "scores = cross_val_score(clf, x, y, cv=5, scoring='neg_mean_squared_error')"
   ]
  },
  {
   "cell_type": "code",
   "execution_count": 35,
   "metadata": {},
   "outputs": [],
   "source": [
    "for i in range(0,5):\n",
    "    scores[i] = sqrt(-1*scores[i])"
   ]
  },
  {
   "cell_type": "code",
   "execution_count": 36,
   "metadata": {},
   "outputs": [
    {
     "name": "stdout",
     "output_type": "stream",
     "text": [
      "[349.14610144 505.23651023 268.67731891 368.61847971 146.38580753]\n",
      "\n",
      "\n",
      "r2_score is  0.992368576835764\n",
      "\n",
      "\n",
      "Avg RMSE is  327.6128435631409\n"
     ]
    }
   ],
   "source": [
    "print(scores)\n",
    "\n",
    "print(\"\\n\\nr2_score is \" , r2_score(y_predict,y_test))\n",
    "avg_rmse_phos = scores.mean()\n",
    "print(\"\\n\\nAvg RMSE is \",scores.mean())"
   ]
  },
  {
   "cell_type": "code",
   "execution_count": 37,
   "metadata": {},
   "outputs": [
    {
     "data": {
      "image/png": "[encoded data removed]",
      "text/plain": [
       "<Figure size 864x720 with 1 Axes>"
      ]
     },
     "metadata": {
      "needs_background": "light"
     },
     "output_type": "display_data"
    }
   ],
   "source": [
    "width=12\n",
    "height=10\n",
    "plt.figure(figsize=(width, height))\n",
    "\n",
    "\n",
    "ax1 = sns.distplot(y_test, hist=False, color=\"r\", label=\"Actual Value\")\n",
    "sns.distplot(y_predict, hist=False, color=\"b\", label=\"Fitted Values\" , ax=ax1)\n",
    "\n",
    "\n",
    "plt.title('Actual vs Fitted Values for Price')\n",
    "plt.xlabel('Price')\n",
    "plt.ylabel('Proportion of Crops')\n",
    "\n",
    "plt.show()\n",
    "plt.close()"
   ]
  },
  {
   "cell_type": "code",
   "execution_count": 38,
   "metadata": {},
   "outputs": [
    {
     "data": {
      "text/plain": [
       "0.9916141330654961"
      ]
     },
     "execution_count": 38,
     "metadata": {},
     "output_type": "execute_result"
    }
   ],
   "source": [
    "from sklearn.ensemble import RandomForestRegressor\n",
    "rfr=RandomForestRegressor()\n",
    "rfr.fit(X_train,y_train)\n",
    "y_predict1 = rfr.predict(X_test)\n",
    "rfr.score(X_test,y_test)"
   ]
  },
  {
   "cell_type": "code",
   "execution_count": 39,
   "metadata": {},
   "outputs": [
    {
     "data": {
      "text/plain": [
       "array([3474.74547619, 6766.84      , 2196.4       , ..., 2200.55      ,\n",
       "       3529.68181818, 4314.31      ])"
      ]
     },
     "execution_count": 39,
     "metadata": {},
     "output_type": "execute_result"
    }
   ],
   "source": [
    "y_predict1"
   ]
  },
  {
   "cell_type": "code",
   "execution_count": 40,
   "metadata": {},
   "outputs": [
    {
     "name": "stdout",
     "output_type": "stream",
     "text": [
      "\n",
      "\n",
      "r2_score is  0.9915317722386481\n"
     ]
    }
   ],
   "source": [
    "print(\"\\n\\nr2_score is \" , r2_score(y_predict1,y_test))"
   ]
  },
  {
   "cell_type": "code",
   "execution_count": 41,
   "metadata": {},
   "outputs": [
    {
     "data": {
      "text/plain": [
       "0.985079143697061"
      ]
     },
     "execution_count": 41,
     "metadata": {},
     "output_type": "execute_result"
    }
   ],
   "source": [
    "from sklearn import tree\n",
    "\n",
    "dt=tree.DecisionTreeRegressor()\n",
    "dt.fit(X_train, y_train)\n",
    "x_predicted=dt.predict(X_test)\n",
    "r2_score(x_predicted,y_test)"
   ]
  },
  {
   "cell_type": "code",
   "execution_count": 42,
   "metadata": {},
   "outputs": [],
   "source": [
    "from sklearn.preprocessing import MinMaxScaler\n",
    "scaler = MinMaxScaler(feature_range=(0, 1))\n",
    "\n",
    "x_train_scaled = scaler.fit_transform(X_train)\n",
    "x_train = pd.DataFrame(x_train_scaled)\n",
    "\n",
    "x_test_scaled = scaler.fit_transform(X_test)\n",
    "x_test = pd.DataFrame(x_test_scaled)"
   ]
  },
  {
   "cell_type": "code",
   "execution_count": 43,
   "metadata": {},
   "outputs": [
    {
     "data": {
      "text/plain": [
       "3003"
      ]
     },
     "execution_count": 43,
     "metadata": {},
     "output_type": "execute_result"
    }
   ],
   "source": [
    "test_vector = np.reshape(np.asarray([1,32,3100.0,3000.0]),(1,4))\n",
    "p = int(alg.predict(test_vector)[0])\n",
    "p\n"
   ]
  },
  {
   "cell_type": "code",
   "execution_count": 44,
   "metadata": {},
   "outputs": [
    {
     "data": {
      "text/plain": [
       "3050"
      ]
     },
     "execution_count": 44,
     "metadata": {},
     "output_type": "execute_result"
    }
   ],
   "source": [
    "test_vector = np.reshape(np.asarray([1,32,3100.0,3000.0]),(1,4))\n",
    "p = int(dt.predict(test_vector)[0])\n",
    "p\n"
   ]
  },
  {
   "cell_type": "code",
   "execution_count": null,
   "metadata": {},
   "outputs": [],
   "source": []
  }
 ],
 "metadata": {
  "kernelspec": {
   "display_name": "Python 3",
   "language": "python",
   "name": "python3"
  },
  "language_info": {
   "codemirror_mode": {
    "name": "ipython",
    "version": 3
   },
   "file_extension": ".py",
   "mimetype": "text/x-python",
   "name": "python",
   "nbconvert_exporter": "python",
   "pygments_lexer": "ipython3",
   "version": "3.7.3"
  }
 },
 "nbformat": 4,
 "nbformat_minor": 2
}
